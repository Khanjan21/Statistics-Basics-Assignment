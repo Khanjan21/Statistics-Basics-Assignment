{
  "nbformat": 4,
  "nbformat_minor": 0,
  "metadata": {
    "colab": {
      "provenance": []
    },
    "kernelspec": {
      "name": "python3",
      "display_name": "Python 3"
    },
    "language_info": {
      "name": "python"
    }
  },
  "cells": [
    {
      "cell_type": "code",
      "execution_count": 2,
      "metadata": {
        "colab": {
          "base_uri": "https://localhost:8080/",
          "height": 105
        },
        "id": "tZieGfkm49RG",
        "outputId": "76079974-3348-4013-a314-a75c50b4bee2"
      },
      "outputs": [
        {
          "output_type": "execute_result",
          "data": {
            "text/plain": [
              "'\\n1. Types of Data: Qualitative and Quantitative\\nQualitative Data:\\n\\nDescribes attributes or categories. It is non-numeric and often called categorical data.\\nExamples: Colors, types of cuisine, gender.\\nNominal scale: Data that can be labeled or categorized without a specific order (e.g., types of fruits, hair color).\\nOrdinal scale: Data with a specific order but no consistent difference between values (e.g., movie ratings, ranking in a competition).\\nQuantitative Data:\\n\\nNumeric data that can be measured.\\nExamples: Height, age, temperature.\\nInterval scale: Numeric data with no true zero (e.g., temperature in Celsius or Fahrenheit).\\nRatio scale: Numeric data with a true zero, allowing for meaningful comparisons (e.g., weight, height, salary).\\n'"
            ],
            "application/vnd.google.colaboratory.intrinsic+json": {
              "type": "string"
            }
          },
          "metadata": {},
          "execution_count": 2
        }
      ],
      "source": [
        "#1. Explain the different types of data (qualitative and quantitative) and provide examples of each. Discuss\n",
        "#nominal, ordinal, interval, and ratio scales.\n",
        "\n",
        "'''\n",
        "1. Types of Data: Qualitative and Quantitative\n",
        "Qualitative Data:\n",
        "\n",
        "Describes attributes or categories. It is non-numeric and often called categorical data.\n",
        "Examples: Colors, types of cuisine, gender.\n",
        "Nominal scale: Data that can be labeled or categorized without a specific order (e.g., types of fruits, hair color).\n",
        "Ordinal scale: Data with a specific order but no consistent difference between values (e.g., movie ratings, ranking in a competition).\n",
        "Quantitative Data:\n",
        "\n",
        "Numeric data that can be measured.\n",
        "Examples: Height, age, temperature.\n",
        "Interval scale: Numeric data with no true zero (e.g., temperature in Celsius or Fahrenheit).\n",
        "Ratio scale: Numeric data with a true zero, allowing for meaningful comparisons (e.g., weight, height, salary).\n",
        "'''"
      ]
    },
    {
      "cell_type": "code",
      "source": [
        "#2. What are the measures of central tendency, and when should you use each? Discuss the mean, median,\n",
        "#and mode with examples and situations where each is appropriate.\n",
        "'''\n",
        "2. Measures of Central Tendency: Mean, Median, and Mode\n",
        "Mean:\n",
        "\n",
        "The average of the data set.\n",
        "Used when data is symmetrically distributed and there are no extreme outliers.\n",
        "Example: Average salary in a company.\n",
        "Median:\n",
        "\n",
        "The middle value when data is ordered.\n",
        "Preferred for skewed data or when there are outliers.\n",
        "Example: Median house prices in a neighborhood.\n",
        "Mode:\n",
        "\n",
        "The most frequent value in the data set.\n",
        "Useful for categorical data.\n",
        "Example: The most common shoe size sold in a store.\n",
        "'''"
      ],
      "metadata": {
        "colab": {
          "base_uri": "https://localhost:8080/",
          "height": 70
        },
        "id": "91JkaGvZ5N6f",
        "outputId": "355d29b2-6a67-497a-f36e-62072cf8d329"
      },
      "execution_count": 3,
      "outputs": [
        {
          "output_type": "execute_result",
          "data": {
            "text/plain": [
              "'\\n2. Measures of Central Tendency: Mean, Median, and Mode\\nMean:\\n\\nThe average of the data set.\\nUsed when data is symmetrically distributed and there are no extreme outliers.\\nExample: Average salary in a company.\\nMedian:\\n\\nThe middle value when data is ordered.\\nPreferred for skewed data or when there are outliers.\\nExample: Median house prices in a neighborhood.\\nMode:\\n\\nThe most frequent value in the data set.\\nUseful for categorical data.\\nExample: The most common shoe size sold in a store.\\n'"
            ],
            "application/vnd.google.colaboratory.intrinsic+json": {
              "type": "string"
            }
          },
          "metadata": {},
          "execution_count": 3
        }
      ]
    },
    {
      "cell_type": "code",
      "source": [
        "#3. Explain the concept of dispersion. How do variance and standard deviation measure the spread of data?\n",
        "\n",
        "'''\n",
        "Dispersion refers to how spread out the data is. It measures the variability within a dataset.\n",
        "\n",
        "Variance:\n",
        "\n",
        "The average squared difference from the mean.\n",
        "A high variance indicates data points are spread out, while a low variance shows they are clustered around the mean.\n",
        "Standard Deviation:\n",
        "\n",
        "The square root of the variance.\n",
        "It gives a sense of how much the data deviates from the mean in the same unit as the data.\n",
        "Example: In a classroom of students, if the standard deviation of test scores is low, it means most students scored close to the mean score.\n",
        "'''\n"
      ],
      "metadata": {
        "colab": {
          "base_uri": "https://localhost:8080/",
          "height": 88
        },
        "id": "lwJdtP8_5qPY",
        "outputId": "328b0691-ce6a-4075-b2e1-faf18eb90076"
      },
      "execution_count": 4,
      "outputs": [
        {
          "output_type": "execute_result",
          "data": {
            "text/plain": [
              "'\\nDispersion refers to how spread out the data is. It measures the variability within a dataset.\\n\\nVariance:\\n\\nThe average squared difference from the mean.\\nA high variance indicates data points are spread out, while a low variance shows they are clustered around the mean.\\nStandard Deviation:\\n\\nThe square root of the variance.\\nIt gives a sense of how much the data deviates from the mean in the same unit as the data.\\nExample: In a classroom of students, if the standard deviation of test scores is low, it means most students scored close to the mean score.\\n'"
            ],
            "application/vnd.google.colaboratory.intrinsic+json": {
              "type": "string"
            }
          },
          "metadata": {},
          "execution_count": 4
        }
      ]
    },
    {
      "cell_type": "code",
      "source": [
        "#4. What is a box plot, and what can it tell you about the distribution of data?\n",
        "\n",
        "'''\n",
        "A box plot visually represents the distribution of data. It includes:\n",
        "\n",
        "Minimum, Q1 (first quartile), Median, Q3 (third quartile), and Maximum.\n",
        "It highlights the interquartile range (IQR) and outliers.\n",
        "It helps identify the central tendency, spread, and skewness of data.\n",
        "'''"
      ],
      "metadata": {
        "colab": {
          "base_uri": "https://localhost:8080/",
          "height": 53
        },
        "id": "GQlquPhu53VG",
        "outputId": "159bf670-a84c-4631-92b3-85489ff708d7"
      },
      "execution_count": 5,
      "outputs": [
        {
          "output_type": "execute_result",
          "data": {
            "text/plain": [
              "'\\nA box plot visually represents the distribution of data. It includes:\\n\\nMinimum, Q1 (first quartile), Median, Q3 (third quartile), and Maximum.\\nIt highlights the interquartile range (IQR) and outliers.\\nIt helps identify the central tendency, spread, and skewness of data.\\n'"
            ],
            "application/vnd.google.colaboratory.intrinsic+json": {
              "type": "string"
            }
          },
          "metadata": {},
          "execution_count": 5
        }
      ]
    },
    {
      "cell_type": "code",
      "source": [
        "#5. Discuss the role of random sampling in making inferences about populations.\n",
        "\n",
        "'''\n",
        "Random sampling allows for unbiased selection of a sample from a population.\n",
        "It ensures that every member of the population has an equal chance of being selected.\n",
        "By analyzing a random sample, statisticians can make inferences about the overall population,\n",
        "allowing for valid conclusions with reduced sampling bias.\n",
        "'''"
      ],
      "metadata": {
        "colab": {
          "base_uri": "https://localhost:8080/",
          "height": 53
        },
        "id": "n0d-0bTL6DJL",
        "outputId": "b69961c8-0d09-4557-d4df-4c70ce2c703e"
      },
      "execution_count": 6,
      "outputs": [
        {
          "output_type": "execute_result",
          "data": {
            "text/plain": [
              "'\\nRandom sampling allows for unbiased selection of a sample from a population. \\nIt ensures that every member of the population has an equal chance of being selected. \\nBy analyzing a random sample, statisticians can make inferences about the overall population, \\nallowing for valid conclusions with reduced sampling bias.\\n'"
            ],
            "application/vnd.google.colaboratory.intrinsic+json": {
              "type": "string"
            }
          },
          "metadata": {},
          "execution_count": 6
        }
      ]
    },
    {
      "cell_type": "code",
      "source": [
        "#6. Explain the concept of skewness and its types. How does skewness affect the interpretation of data?\n",
        "\n",
        "'''\n",
        "Skewness measures the asymmetry of data distribution.\n",
        "\n",
        "Positive skew (right skew): Tail on the right side is longer. Mean > Median.\n",
        "Negative skew (left skew): Tail on the left side is longer. Median > Mean.\n",
        "Effect on Interpretation:\n",
        "\n",
        "Skewed data indicates that the mean may not accurately reflect the central tendency.\n",
        "For positively skewed data, the mean is pulled toward the tail, while for negatively skewed data,\n",
        "the mean is lower than the median.\n",
        "'''"
      ],
      "metadata": {
        "colab": {
          "base_uri": "https://localhost:8080/",
          "height": 70
        },
        "id": "76xUPrIm6PDY",
        "outputId": "bcb37bea-4cd4-4cf1-983a-a0da2016cbe7"
      },
      "execution_count": 7,
      "outputs": [
        {
          "output_type": "execute_result",
          "data": {
            "text/plain": [
              "'\\nSkewness measures the asymmetry of data distribution.\\n\\nPositive skew (right skew): Tail on the right side is longer. Mean > Median.\\nNegative skew (left skew): Tail on the left side is longer. Median > Mean.\\nEffect on Interpretation:\\n\\nSkewed data indicates that the mean may not accurately reflect the central tendency. \\nFor positively skewed data, the mean is pulled toward the tail, while for negatively skewed data, \\nthe mean is lower than the median.\\n'"
            ],
            "application/vnd.google.colaboratory.intrinsic+json": {
              "type": "string"
            }
          },
          "metadata": {},
          "execution_count": 7
        }
      ]
    },
    {
      "cell_type": "code",
      "source": [
        "#7. What is the interquartile range (IQR), and how is it used to detect outliers?\n",
        "\n",
        "'''\n",
        "IQR is the difference between the third quartile (Q3) and the first quartile (Q1):\n",
        "\n",
        "IQR = Q3 - Q1.\n",
        "It measures the middle 50% of the data.\n",
        "To detect outliers, calculate the upper and lower bounds:\n",
        "Lower bound: Q1 - 1.5 * IQR\n",
        "Upper bound: Q3 + 1.5 * IQR\n",
        "Any data point outside these bounds is considered an outlier.\n",
        "'''"
      ],
      "metadata": {
        "colab": {
          "base_uri": "https://localhost:8080/",
          "height": 53
        },
        "id": "ivMsnkz96Zz6",
        "outputId": "0e8c6d20-2cbd-4cc6-a423-747ef96dcbc7"
      },
      "execution_count": 8,
      "outputs": [
        {
          "output_type": "execute_result",
          "data": {
            "text/plain": [
              "'\\nIQR is the difference between the third quartile (Q3) and the first quartile (Q1):\\n\\nIQR = Q3 - Q1.\\nIt measures the middle 50% of the data.\\nTo detect outliers, calculate the upper and lower bounds:\\nLower bound: Q1 - 1.5 * IQR\\nUpper bound: Q3 + 1.5 * IQR\\nAny data point outside these bounds is considered an outlier.\\n'"
            ],
            "application/vnd.google.colaboratory.intrinsic+json": {
              "type": "string"
            }
          },
          "metadata": {},
          "execution_count": 8
        }
      ]
    },
    {
      "cell_type": "code",
      "source": [
        "#8. Discuss the conditions under which the binomial distribution is used.\n",
        "'''\n",
        "A binomial distribution applies when:\n",
        "\n",
        "There are a fixed number of trials (n).\n",
        "Each trial has only two possible outcomes (success or failure).\n",
        "The probability of success (p) is the same for each trial.\n",
        "Example: Flipping a coin 10 times, where success is defined as getting heads.\n",
        "'''"
      ],
      "metadata": {
        "colab": {
          "base_uri": "https://localhost:8080/",
          "height": 53
        },
        "id": "a5qc9Vtp6ikH",
        "outputId": "d78ef22d-6394-4982-80fa-feee85fe811d"
      },
      "execution_count": 9,
      "outputs": [
        {
          "output_type": "execute_result",
          "data": {
            "text/plain": [
              "'\\nA binomial distribution applies when:\\n\\nThere are a fixed number of trials (n).\\nEach trial has only two possible outcomes (success or failure).\\nThe probability of success (p) is the same for each trial.\\nExample: Flipping a coin 10 times, where success is defined as getting heads.\\n'"
            ],
            "application/vnd.google.colaboratory.intrinsic+json": {
              "type": "string"
            }
          },
          "metadata": {},
          "execution_count": 9
        }
      ]
    },
    {
      "cell_type": "code",
      "source": [
        "#9. Explain the properties of the normal distribution and the empirical rule (68-95-99.7 rule).\n",
        "'''\n",
        "A normal distribution is symmetric and bell-shaped, with the mean, median, and mode all being equal. The data follows the 68-95-99.7 rule:\n",
        "\n",
        "68% of the data lies within 1 standard deviation of the mean.\n",
        "95% lies within 2 standard deviations.\n",
        "99.7% lies within 3 standard deviations.\n",
        "'''"
      ],
      "metadata": {
        "colab": {
          "base_uri": "https://localhost:8080/",
          "height": 53
        },
        "id": "ly7vCsUg6rDd",
        "outputId": "435cdf51-c2ec-4f55-bce2-bca067b50cfc"
      },
      "execution_count": 10,
      "outputs": [
        {
          "output_type": "execute_result",
          "data": {
            "text/plain": [
              "'\\nA normal distribution is symmetric and bell-shaped, with the mean, median, and mode all being equal. The data follows the 68-95-99.7 rule:\\n\\n68% of the data lies within 1 standard deviation of the mean.\\n95% lies within 2 standard deviations.\\n99.7% lies within 3 standard deviations.\\n'"
            ],
            "application/vnd.google.colaboratory.intrinsic+json": {
              "type": "string"
            }
          },
          "metadata": {},
          "execution_count": 10
        }
      ]
    },
    {
      "cell_type": "markdown",
      "source": [
        "#10. Provide a real-life example of a Poisson process and calculate the probability for a specific event.\n",
        "\n",
        "'''\n",
        "A Poisson process describes events occurring independently over a fixed period at a constant rate. For example, the number of customer arrivals at a bank per hour.\n",
        "\n",
        "If the bank expects 3 customers per hour, the probability of exactly 5 customers arriving in an hour is:\n",
        "'''\n",
        "![Screenshot 2024-10-04 151746.png](data:image/png;base64,iVBORw0KGgoAAAANSUhEUgAAAUQAAACHCAYAAABu4SBoAAAAAXNSR0IArs4c6QAAAARnQU1BAACxjwv8YQUAAAAJcEhZcwAADsMAAA7DAcdvqGQAABClSURBVHhe7d0PTJtnfgfw710mZ6nkLptzORFzu/paxWl3oTfJNJNpqsLlCuWUQrYzqULoWkjUcxoVUvXc2+JRhbnLzo0aiJq6VQu3FVwlcFuhURPc3mBKBrsclq4lXVtHyTlaMVnbWIrwbQlWo9vz2j/AAUwwf2LjfD8S8LyPnYIpfHn+v18zmUy/BxER4evykYjolsdAJCISDEQiIsFAJCISDEQiIsFAJCISDEQiIsFAJCISDEQiIsFAJCISDEQiIsFAJCISDEQiIsFAJCISDEQiIsFAJCISDEQiIsFAJCISDEQiIsFAJCISDEQiIsFAJCISDEQiIsFAJCISDEQiIsFAJCISDEQiIsFAJCISDEQiIsFAJMq1oPBxBxyPF6PQYpTKTGBF2WazlOOMljKUbZQLWnBfM5lMv5cy0S3HWNWEw4/m4OLgWYRXrIW1wITo6UbU7PYiJM9Jm20e9OyxQH8timhUXS/TQYcgun5aAdep+FNoYbGFSLewYjgqrTCuiGDwsBPOugp0nInCsGEXGnbIU9JtLAwxii8/9sG9g2G4mBiIdEsbvabe6Y0w5cWvR0ZH1Xsd9N+MX6fdZydQ8ECBeitC+U4nOj6ReloUDES6hfngeNIO+2MlcBzXrstwn0kPRAPo/+fYExaBGbZ9bejuGcDAgHr7VR963m2D+8liJB+9NMKyqRCWXLmkRcMxRCJtUqUgH9/fVIbCe67C/+pTqG1djBFEK5xHXsTD+kF0vd4Mb6cfeKgODT+pRN5KIOJvRJU9YeyytAndz5px9cpVRCNR6AyrgHPvwG1vRL88hRYWW4hERjPy71Hts/8dwej/RYE//rY8sMB21ODhO3XQrTBAF/bHgi/0XiPq++MRqLdUwbE5Vow7HsIl9Tz3D8tR8WgFyp0qQC2VqH+pTJ5AC40tRMoa1e52lPypXMwger4L2/d65ep6ZY3dcBboEXirAtsPLnArsb4dA5tNsWLktBtFuzti5cT64LF8VDTEitOohKenDhb40Vhkx/SvgOaDgUi3MG1s7rvQX/4IvX4Jv7FwGvKhfItzYZfebKhDs8uGdctCOPH8xGyxcV8nOku1EcQI/AeLYH8rXl9W34zKnAAa7W7pIksg6oPoylf/PlZHC4ldZloyjKq76NjvQduRdrS/6YGzyjLDRMQs7GhA034X3PudsEnVuK/rkCPFBaOtb/xBAQqKEpfOGFF5l7yK8Bl0Sxhq4VfyYB5MliJsLZWqMZEwglKkhcVApMyXa4PrSA86PbtQZIzi01Pd6A3qcP+Pm3Bwr0WeNAef/061yVQX+ovQeMCU/cntsY+hj9pVx3SxGVG852coWauKUdXqe6EWXfEHFC8CQ2EEWp2ojc2AKxvvhTYJHv6gm93lRcIuM2W2XNVN/LnqJq5U3cnX7LC/EZAHAHtLH6r1J5Bvm2vnUbXOXm5GzV2XcOb0BUT+SHaqfOBFw87FnMl1oO1kGUw6HXTLVBYO9aL5bx1ombzGUHWx21yPQPdf/Th7xYDvbrDg9qEOOB8b60LTQmMgUgazwHmkCWV36hA904KKas/EmJ4WlG/WIec/7SjfO7+2nLY/+JHifBWPIQz43kHX2HjiLJi3OlB1D/DhEXdqi6a1pT55BuhWfx/2nYUwXguh/83nUJsQ+HFmlD1lQ/7qKH77yy60nJr8OC0kBiJlrs1N6K63woAoBo82oP3j2/GdP1fdxty1yMszQXc+za2lDS50viwLqod8sG9xzqmbbXy6De1VZui0SZVDVbAvyhpImg2OIVLGKi40qzBUro3CYKlBzWM2FK7PwfIv/Gj/6XYUZVLX8auruCjFVIUOfSotXz0sf2lX7WJKF7YQKWNVenpQZ9EDF7rmMU64uOJd5ig+fL0RHUNSmYT16SbsshoQ7n8FtYcSo3xsOY1W5pKadGILkTJe5FLmLjIJHHXD+fyNwxCow65tVpjvNMNaVQen1MbdDt0fSPFKBGEp0s3HQKSM9e8XL0lpeuYdHnR6HZCDapaOaBS/k2LMBhMMK6T8WQDvSJFuPgYiZaxQSy8GrwD6PyuCPfGkl1wLKve1w/NEDs7+qxeDUp3ZGnHiNxHgWhj+1/9eXY0xovJxWWCurUV81b2wu2MoJVk3hmh8yIWDTgvCr5aMb4EijbaExY37h5tR80wGnAY9S8a/Uv8/nyqGaXkYwc9GVDqugnHlckTO96J5/xI7HzC3GI5/eA62u/WIDAdxSYU9VqyCaY0eiAThO7wHzn9hHKZTmgPRiuq9pfiOTi6TiYbw4ckedNxoDdZGJ9r/8WHA9xNUNEw//2jd4UTpt/5QrhKN4JPjbnhPq2KuDXU778Wq+AMTor/F8Rdalu6iWFnkbD436ZipjBffc2yI/ZxEcOF4P5byajzzxmqUbboXZnMO8D9nEfjgOLr+aWm/pmyR5kCshuf9GuQtB3QrJBXHj0xPMLaif9iPjgN2NE57hHoZmrqdsIS9qKhsTPrLXtfSA9td2ieM/zfHRNVf6N4DFXBq26RK3ejcWwhjQlBHr6gvKtyHhi0O+KQu/erQdvIRrLpwBv7BD3HqY+1VG3HvBvXL9r31WHelBwWPTpqvjK3ts2CksxYVLyz+5jSipSRDusx2NJ+sRt4KlTmnnCh5ZlLkaF2Nn9XDtlYl1GU/Gn8w9egj6/5ONG0Cep8ph2M295wYX/Srwu4DDwp2tsTrx2x0o/ulQujO++DZl6ldM9UiHihD/OCoSSIBdDy/He4p3wsj7C3tqDYH4d26HY03nB0lunVkxqRK6ToYY7NsUYQC07S/hnxwdw/GNuJjpQUP74nVTsi1o6bACJztR9NswlBzrBV+CQPd+iLV1kqgdS3rVRhqJxg/usTGqaIRBPu8cD42XRhqQvC87UdYZ1Z/eHjQKFGijAhE44Zvy46EIM68FquaapUesXWrim6sIIzVhap1GcXgyVRm6Pzw/EbWty0zw/KsHMGkWqOug7tg/qIDziUxzqadoZeP/Hx5KyhCRV0jfDO1/I4dRyAMGCyPoFqqiChDAtE2dh7c58P4j3hpisq1a6QUQficFGOMeGK96jTOFKZJhFr8CGh3XVPMBdqWKSucB+tRiBNwVmbziSI+/Dqo2tsrTMjfJlVElAmBWAltsk0TPv9vSTbHV+J+szQLh/1ovW45jQ3rvqU+zBCmSQ250XNGZnByLajzulC2chCv7HFl/fFK3rPD6r0eJktxvIKIMiAQS++LHXqZdPxQtQArPTXxfZ7aRMEBx/VhtdWMNdoMdDg4p5NGWt7xy1YpgwrmABqfsMO7xCYadCYX2t/vQ1+fevvVAAbeb4d7h1keTUL1mbXXbViTH78movTPMhvr29Gp3cNCdXl9Dc1InAcw3lOKok0WmA06RC/0orHeMXWCY287BspNsVs4Ftnnco5wMZq6XbBqg5hXBuF5oAaT5ptT93Qzen60DsvlMlWj5zpQVD2xlyE5mWW+PAjvi/VofC8kY6D1KL5Du2FR8vWY4/823A9nSe2slhKNL1mak1F8+osi1BySS6IMlPZArPMOoFI7Qn269YejXyJ47iP0HW+F51iSZatyU6CZ71aWnFWFl2tbHvSyJjFwtBzbD8x3KsUMa+kd45NAqYoEfeif1cy2Cr+WCoz8vOb6GeVtHvTssUCv/sh01VbApS02n0KWOn2Vwh3c7raiON6cn4Olv6Casl+aA3Hi2KM5t/DmEYjGKg9anzIj8EY39DtsMGuhOI+DPjPHxPrE0C/tKP+b6V6NfO/VK83EW1oODAxIiWairSyghZPeQCxtQve++OLowFv52H4wXp2KsVs4phqIsT3Pz1sRfdupWoT9qH69D/bvaVtTQujdXQ7HtK2qTKNaohuB/ilbGif+0GhH7xdUe6Q+UWYHIlE6pDUQJ+5Hq7p2W1TXbi6TGXNpIU635zlh50q4z4WSuon7n6XuZnSZy+B+14nC1er5p1XrendipE0EIs53IX/y9r0YdpmJJktrII6PH6YwsD9FqpMqSQ84sMD1tgfF2jFT851cuSmTKgnb9qZ8/yYem3YrZAwnVYgmS2MgTuxfnvsMsbLVg55nLVietGuY4AanvVhe6ITnofgi8YWZXFlM8dlxy6gfHYdd8RnmMWOTKgijv6EEtcekPtHYcMVZL/IrZzOjTZT9bv46RK3bVVqM4mcLsE5OCR65fClWZ707fp2SowEMXwN0BpNq400j9vlssO9rRudR1Y1cGUHwk2HkJB44qlHPMwQvxvdLK+aNtbBpX+fGG6znSxsfWk8Fgdt0qkWbGNxWOLfkxbrrEX8r3NOFocZsiA0PhP475eXslEj7+crYnxFK1U1uIdrged+hQkkuJ4mcdqNod4dczZZ0dXMC8P7F9oSTiDXJP9/1kzgzfV0h+HaXw5mRkyxGVL7UjF1WPSKfhTCi/WFYbYJRH0WorxnP1bUkHbOL38ApmrwFSTe22Y3uvYUwLAPCvS6UOOYz7kyZIL2zzAsk3tX9BgbfKEBNivuZs4F5sx02ax7WmXQIBwL49TEvvDPebF0Wo6MfrpJa8Nd4TIrnS+5pw8A2aR1y6CErZEUgIteBtl/YYD7fgfJK3pPihmRG/ep7dpTv5SGxExImqiab7nzJ8bHaeY6DU8bIgMMdFsCQGx39YWCtFbUbpY6SMMK+xQLDlUH4PAzDG5rpfMnLUYxtrhq5zAVF2SA7AlHpeqYV/stGFPy4Tv3KU1KbHShbDwx66+HhadnTSOF8yeNfYkSK0Sv845INsiYQAS/sDV0I3WHDQdUdpGloy46etkLnfwX1r3FgYf7CiGh3zlPtxMjnsQpa4rIoEJVTLuzZ1wtsUq0fHnw6iQXOAzUwnVlqd9zLZCOIfqV9HNV61pQFsmNShWhBaJMqRYh09kP/YCGMt6mqZTrotDsyHv07ON6YPE5ogbvLg8I1Ifi2lMPJIYglL7taiETzpkfegznof7ECBQUFKPiRE77LRhQ+2YL2KUMxfozEZlWiuMowzAoMRKJxAzh7ZhAdDTUTWyGHfHC+rd3xUQdTaR2cG+LVY4KXVF85EobcroyWOAYi0TgVftWTDtvVvBXCJe3jMhMs5dNsEL2mtREpGzAQicZp50tOty85iLBMmnzjm9cfyOq9qKLycgipbjilzMRAJIrRzpdsQ9NLbeh5uVLqptLdFruD+ISORjgPMQ6zBQORKGY97lgdL+nvug/X35zVBIOcixsennRrg0/64ZtyYjktVQxEopgBXAwD0WE/vC+5rz8wd5sRq2KFMAK9CY9oC93f1W7/2g1PFfdHZQMGIlHMHM6X/OsyWFbroNMZkPcAb/ifDbgwm2hciudL5trR/GY18m6LYLC1CjWHuf9nqWMgEk2S+vmSlC0YiEREgmOIRESCgUhEJBiIRESCgUhEJBiIRESCgUhEJBiIRESCgUhEJBiIRESCgUhEJBiIRESCgUhEJBiIRESCgUhEJBiIRESCgUhEJBiIRESCgUhEJBiIRESCgUhEJBiIRESCgUhEJBiIRESCgUhEJBiIRESCgUhEJBiIRESCgUhEJBiIRESCgUhEJBiIRESCgUhEJBiIRESCgUhEJBiIRESCgUhEJBiIRESCgUhEJBiIRESCgUhEJBiIRESCgUhEJBiIRESCgUhEJBiIRESCgUhEJBiIRESCgUhEJBiIRESCgUhEFAP8P+Ae6D/LE8H+AAAAAElFTkSuQmCC)"
      ],
      "metadata": {
        "id": "fVmKNfv67h3q"
      }
    },
    {
      "cell_type": "code",
      "source": [
        "#11. Explain what a random variable is and differentiate between discrete and continuous random variables.\n",
        "\n",
        "'''\n",
        "A random variable represents outcomes of a random process.\n",
        "\n",
        "Discrete: Takes specific values (e.g., number of children in a family).\n",
        "Continuous: Takes any value in a range (e.g., height of people).\n",
        "'''"
      ],
      "metadata": {
        "colab": {
          "base_uri": "https://localhost:8080/",
          "height": 53
        },
        "id": "0tLAyL1y69OY",
        "outputId": "4963e82d-674e-4e60-cead-aec4f142d7ae"
      },
      "execution_count": 11,
      "outputs": [
        {
          "output_type": "execute_result",
          "data": {
            "text/plain": [
              "'\\nA random variable represents outcomes of a random process.\\n\\nDiscrete: Takes specific values (e.g., number of children in a family).\\nContinuous: Takes any value in a range (e.g., height of people).\\n'"
            ],
            "application/vnd.google.colaboratory.intrinsic+json": {
              "type": "string"
            }
          },
          "metadata": {},
          "execution_count": 11
        }
      ]
    },
    {
      "cell_type": "code",
      "source": [
        "#12. Provide an example dataset, calculate both covariance and correlation, and interpret the results.\n",
        "'''\n",
        "Given two datasets:\n",
        "\n",
        "Dataset X: [1, 2, 3, 4, 5]\n",
        "Dataset Y: [2, 4, 6, 8, 10]\n",
        "Covariance measures the direction of the linear relationship, and correlation (normalized covariance) measures the strength of the relationship:\n",
        "\n",
        "Covariance: Positive, indicating a direct relationship.\n",
        "Correlation: 1, indicating a perfect linear relationship.\n",
        "'''"
      ],
      "metadata": {
        "colab": {
          "base_uri": "https://localhost:8080/",
          "height": 53
        },
        "id": "WNS1ypyM8CX2",
        "outputId": "f0b13926-c587-4782-cc90-2a5bd6b707e3"
      },
      "execution_count": 12,
      "outputs": [
        {
          "output_type": "execute_result",
          "data": {
            "text/plain": [
              "'\\nGiven two datasets:\\n\\nDataset X: [1, 2, 3, 4, 5]\\nDataset Y: [2, 4, 6, 8, 10]\\nCovariance measures the direction of the linear relationship, and correlation (normalized covariance) measures the strength of the relationship:\\n\\nCovariance: Positive, indicating a direct relationship.\\nCorrelation: 1, indicating a perfect linear relationship.\\n'"
            ],
            "application/vnd.google.colaboratory.intrinsic+json": {
              "type": "string"
            }
          },
          "metadata": {},
          "execution_count": 12
        }
      ]
    },
    {
      "cell_type": "code",
      "source": [],
      "metadata": {
        "id": "aGooVbEf8gLB"
      },
      "execution_count": null,
      "outputs": []
    }
  ]
}